{
 "cells": [
  {
   "cell_type": "markdown",
   "id": "da86d7ef",
   "metadata": {},
   "source": [
    "# ANALISI"
   ]
  },
  {
   "cell_type": "code",
   "execution_count": 6,
   "id": "e9a5812b",
   "metadata": {},
   "outputs": [
    {
     "name": "stderr",
     "output_type": "stream",
     "text": [
      "\n",
      "[notice] A new release of pip is available: 24.0 -> 25.2\n",
      "[notice] To update, run: python.exe -m pip install --upgrade pip\n"
     ]
    }
   ],
   "source": [
    "# !pip install -q scikit-learn pandas numpy matplotlib seaborn imbalanced-learn shap tensorflow"
   ]
  },
  {
   "cell_type": "code",
   "execution_count": 7,
   "id": "cf22a9b1",
   "metadata": {},
   "outputs": [
    {
     "name": "stderr",
     "output_type": "stream",
     "text": [
      "c:\\Users\\laudi\\OneDrive\\Documenti\\REPO\\DeepLearning_MachineLearning\\.venv\\Lib\\site-packages\\tqdm\\auto.py:21: TqdmWarning: IProgress not found. Please update jupyter and ipywidgets. See https://ipywidgets.readthedocs.io/en/stable/user_install.html\n",
      "  from .autonotebook import tqdm as notebook_tqdm\n"
     ]
    }
   ],
   "source": [
    "import numpy as np\n",
    "import pandas as pd\n",
    "import matplotlib.pyplot as plt\n",
    "import seaborn as sns\n",
    "\n",
    "from sklearn.datasets import fetch_openml\n",
    "from sklearn.model_selection import train_test_split, StratifiedKFold, cross_val_score, RandomizedSearchCV\n",
    "from sklearn.preprocessing import OneHotEncoder, StandardScaler\n",
    "from sklearn.compose import ColumnTransformer\n",
    "from sklearn.pipeline import Pipeline\n",
    "from sklearn.metrics import (\n",
    "    classification_report, confusion_matrix, roc_auc_score, average_precision_score,\n",
    "    RocCurveDisplay, PrecisionRecallDisplay\n",
    ")\n",
    "from sklearn.dummy import DummyClassifier\n",
    "from sklearn.linear_model import LogisticRegression\n",
    "from sklearn.ensemble import RandomForestClassifier, HistGradientBoostingClassifier\n",
    "from sklearn.calibration import CalibratedClassifierCV\n",
    "from sklearn.utils.class_weight import compute_class_weight\n",
    "\n",
    "import shap\n",
    "import warnings, os, random\n",
    "warnings.filterwarnings(\"ignore\")\n",
    "\n",
    "SEED = 42\n",
    "np.random.seed(SEED); random.seed(SEED)\n"
   ]
  },
  {
   "cell_type": "code",
   "execution_count": 27,
   "id": "0f783a39",
   "metadata": {},
   "outputs": [
    {
     "data": {
      "text/html": [
       "<div>\n",
       "<style scoped>\n",
       "    .dataframe tbody tr th:only-of-type {\n",
       "        vertical-align: middle;\n",
       "    }\n",
       "\n",
       "    .dataframe tbody tr th {\n",
       "        vertical-align: top;\n",
       "    }\n",
       "\n",
       "    .dataframe thead th {\n",
       "        text-align: right;\n",
       "    }\n",
       "</style>\n",
       "<table border=\"1\" class=\"dataframe\">\n",
       "  <thead>\n",
       "    <tr style=\"text-align: right;\">\n",
       "      <th></th>\n",
       "      <th>age</th>\n",
       "      <th>workclass</th>\n",
       "      <th>fnlwgt</th>\n",
       "      <th>education</th>\n",
       "      <th>education-num</th>\n",
       "      <th>marital-status</th>\n",
       "      <th>occupation</th>\n",
       "      <th>relationship</th>\n",
       "      <th>race</th>\n",
       "      <th>sex</th>\n",
       "      <th>capital-gain</th>\n",
       "      <th>capital-loss</th>\n",
       "      <th>hours-per-week</th>\n",
       "      <th>native-country</th>\n",
       "      <th>class</th>\n",
       "    </tr>\n",
       "  </thead>\n",
       "  <tbody>\n",
       "    <tr>\n",
       "      <th>0</th>\n",
       "      <td>25</td>\n",
       "      <td>Private</td>\n",
       "      <td>226802</td>\n",
       "      <td>11th</td>\n",
       "      <td>7</td>\n",
       "      <td>Never-married</td>\n",
       "      <td>Machine-op-inspct</td>\n",
       "      <td>Own-child</td>\n",
       "      <td>Black</td>\n",
       "      <td>Male</td>\n",
       "      <td>0</td>\n",
       "      <td>0</td>\n",
       "      <td>40</td>\n",
       "      <td>United-States</td>\n",
       "      <td>&lt;=50K</td>\n",
       "    </tr>\n",
       "    <tr>\n",
       "      <th>1</th>\n",
       "      <td>38</td>\n",
       "      <td>Private</td>\n",
       "      <td>89814</td>\n",
       "      <td>HS-grad</td>\n",
       "      <td>9</td>\n",
       "      <td>Married-civ-spouse</td>\n",
       "      <td>Farming-fishing</td>\n",
       "      <td>Husband</td>\n",
       "      <td>White</td>\n",
       "      <td>Male</td>\n",
       "      <td>0</td>\n",
       "      <td>0</td>\n",
       "      <td>50</td>\n",
       "      <td>United-States</td>\n",
       "      <td>&lt;=50K</td>\n",
       "    </tr>\n",
       "    <tr>\n",
       "      <th>2</th>\n",
       "      <td>28</td>\n",
       "      <td>Local-gov</td>\n",
       "      <td>336951</td>\n",
       "      <td>Assoc-acdm</td>\n",
       "      <td>12</td>\n",
       "      <td>Married-civ-spouse</td>\n",
       "      <td>Protective-serv</td>\n",
       "      <td>Husband</td>\n",
       "      <td>White</td>\n",
       "      <td>Male</td>\n",
       "      <td>0</td>\n",
       "      <td>0</td>\n",
       "      <td>40</td>\n",
       "      <td>United-States</td>\n",
       "      <td>&gt;50K</td>\n",
       "    </tr>\n",
       "  </tbody>\n",
       "</table>\n",
       "</div>"
      ],
      "text/plain": [
       "   age  workclass  fnlwgt   education  education-num      marital-status  \\\n",
       "0   25    Private  226802        11th              7       Never-married   \n",
       "1   38    Private   89814     HS-grad              9  Married-civ-spouse   \n",
       "2   28  Local-gov  336951  Assoc-acdm             12  Married-civ-spouse   \n",
       "\n",
       "          occupation relationship   race   sex  capital-gain  capital-loss  \\\n",
       "0  Machine-op-inspct    Own-child  Black  Male             0             0   \n",
       "1    Farming-fishing      Husband  White  Male             0             0   \n",
       "2    Protective-serv      Husband  White  Male             0             0   \n",
       "\n",
       "   hours-per-week native-country  class  \n",
       "0              40  United-States  <=50K  \n",
       "1              50  United-States  <=50K  \n",
       "2              40  United-States   >50K  "
      ]
     },
     "execution_count": 27,
     "metadata": {},
     "output_type": "execute_result"
    }
   ],
   "source": [
    "adult = fetch_openml(\"adult\", version=2, as_frame=True)\n",
    "df = adult.frame.copy()\n",
    "df.head(3)\n"
   ]
  },
  {
   "cell_type": "code",
   "execution_count": 28,
   "id": "b109c6a7",
   "metadata": {},
   "outputs": [
    {
     "data": {
      "text/plain": [
       "class\n",
       "<=50K    37155\n",
       ">50K     11687\n",
       "Name: count, dtype: int64"
      ]
     },
     "execution_count": 28,
     "metadata": {},
     "output_type": "execute_result"
    }
   ],
   "source": [
    "df.columns = [c.strip().lower().replace('-', '_') for c in df.columns]\n",
    "df = df.applymap(lambda x: x.strip() if isinstance(x, str) else x)\n",
    "df = df.replace('?', np.nan)\n",
    "\n",
    "target_col = 'class'  # etichetta originale\n",
    "df[target_col].value_counts()\n"
   ]
  },
  {
   "cell_type": "markdown",
   "id": "e3dffe7a",
   "metadata": {},
   "source": [
    "## PULIZIA"
   ]
  },
  {
   "cell_type": "code",
   "execution_count": 29,
   "id": "96259aeb",
   "metadata": {},
   "outputs": [
    {
     "name": "stdout",
     "output_type": "stream",
     "text": [
      "Shape: (48842, 15)\n",
      "Target rate (>50K): 0.239\n"
     ]
    }
   ],
   "source": [
    "# Categorical vs Numeric\n",
    "cat_cols = df.select_dtypes(include='category').columns.tolist()\n",
    "cat_cols.remove(target_col)\n",
    "num_cols = df.select_dtypes(exclude='category').columns.tolist()\n",
    "\n",
    "# Trasformiamo la target in binaria: >50K -> 1, altrimenti 0\n",
    "df['income'] = (df[target_col] == '>50K').astype(int)\n",
    "df = df.drop(columns=[target_col])\n",
    "\n",
    "# Missing: imputazione semplice (moda per cat, mediana per num) – lo faremo nel pipeline\n",
    "print(\"Shape:\", df.shape)\n",
    "print(\"Target rate (>50K):\", df['income'].mean().round(3))\n"
   ]
  },
  {
   "cell_type": "code",
   "execution_count": 30,
   "id": "748cbbdb",
   "metadata": {},
   "outputs": [
    {
     "data": {
      "image/png": "[encoded data removed]",
      "text/plain": [
       "<Figure size 640x480 with 1 Axes>"
      ]
     },
     "metadata": {},
     "output_type": "display_data"
    },
    {
     "data": {
      "text/html": [
       "<div>\n",
       "<style scoped>\n",
       "    .dataframe tbody tr th:only-of-type {\n",
       "        vertical-align: middle;\n",
       "    }\n",
       "\n",
       "    .dataframe tbody tr th {\n",
       "        vertical-align: top;\n",
       "    }\n",
       "\n",
       "    .dataframe thead th {\n",
       "        text-align: right;\n",
       "    }\n",
       "</style>\n",
       "<table border=\"1\" class=\"dataframe\">\n",
       "  <thead>\n",
       "    <tr style=\"text-align: right;\">\n",
       "      <th></th>\n",
       "      <th>count</th>\n",
       "      <th>mean</th>\n",
       "      <th>std</th>\n",
       "      <th>min</th>\n",
       "      <th>25%</th>\n",
       "      <th>50%</th>\n",
       "      <th>75%</th>\n",
       "      <th>max</th>\n",
       "    </tr>\n",
       "  </thead>\n",
       "  <tbody>\n",
       "    <tr>\n",
       "      <th>age</th>\n",
       "      <td>48842.0</td>\n",
       "      <td>38.64</td>\n",
       "      <td>13.71</td>\n",
       "      <td>17.0</td>\n",
       "      <td>28.0</td>\n",
       "      <td>37.0</td>\n",
       "      <td>48.0</td>\n",
       "      <td>90.0</td>\n",
       "    </tr>\n",
       "    <tr>\n",
       "      <th>fnlwgt</th>\n",
       "      <td>48842.0</td>\n",
       "      <td>189664.13</td>\n",
       "      <td>105604.03</td>\n",
       "      <td>12285.0</td>\n",
       "      <td>117550.5</td>\n",
       "      <td>178144.5</td>\n",
       "      <td>237642.0</td>\n",
       "      <td>1490400.0</td>\n",
       "    </tr>\n",
       "    <tr>\n",
       "      <th>education_num</th>\n",
       "      <td>48842.0</td>\n",
       "      <td>10.08</td>\n",
       "      <td>2.57</td>\n",
       "      <td>1.0</td>\n",
       "      <td>9.0</td>\n",
       "      <td>10.0</td>\n",
       "      <td>12.0</td>\n",
       "      <td>16.0</td>\n",
       "    </tr>\n",
       "    <tr>\n",
       "      <th>capital_gain</th>\n",
       "      <td>48842.0</td>\n",
       "      <td>1079.07</td>\n",
       "      <td>7452.02</td>\n",
       "      <td>0.0</td>\n",
       "      <td>0.0</td>\n",
       "      <td>0.0</td>\n",
       "      <td>0.0</td>\n",
       "      <td>99999.0</td>\n",
       "    </tr>\n",
       "    <tr>\n",
       "      <th>capital_loss</th>\n",
       "      <td>48842.0</td>\n",
       "      <td>87.50</td>\n",
       "      <td>403.00</td>\n",
       "      <td>0.0</td>\n",
       "      <td>0.0</td>\n",
       "      <td>0.0</td>\n",
       "      <td>0.0</td>\n",
       "      <td>4356.0</td>\n",
       "    </tr>\n",
       "    <tr>\n",
       "      <th>hours_per_week</th>\n",
       "      <td>48842.0</td>\n",
       "      <td>40.42</td>\n",
       "      <td>12.39</td>\n",
       "      <td>1.0</td>\n",
       "      <td>40.0</td>\n",
       "      <td>40.0</td>\n",
       "      <td>45.0</td>\n",
       "      <td>99.0</td>\n",
       "    </tr>\n",
       "  </tbody>\n",
       "</table>\n",
       "</div>"
      ],
      "text/plain": [
       "                  count       mean        std      min       25%       50%  \\\n",
       "age             48842.0      38.64      13.71     17.0      28.0      37.0   \n",
       "fnlwgt          48842.0  189664.13  105604.03  12285.0  117550.5  178144.5   \n",
       "education_num   48842.0      10.08       2.57      1.0       9.0      10.0   \n",
       "capital_gain    48842.0    1079.07    7452.02      0.0       0.0       0.0   \n",
       "capital_loss    48842.0      87.50     403.00      0.0       0.0       0.0   \n",
       "hours_per_week  48842.0      40.42      12.39      1.0      40.0      40.0   \n",
       "\n",
       "                     75%        max  \n",
       "age                 48.0       90.0  \n",
       "fnlwgt          237642.0  1490400.0  \n",
       "education_num       12.0       16.0  \n",
       "capital_gain         0.0    99999.0  \n",
       "capital_loss         0.0     4356.0  \n",
       "hours_per_week      45.0       99.0  "
      ]
     },
     "execution_count": 30,
     "metadata": {},
     "output_type": "execute_result"
    }
   ],
   "source": [
    "fig, ax = plt.subplots()\n",
    "df['income'].value_counts(normalize=True).plot(kind='bar', ax=ax)\n",
    "ax.set_title(\"Class balance\")\n",
    "plt.show()\n",
    "\n",
    "df[num_cols].describe().T.round(2)\n"
   ]
  },
  {
   "cell_type": "code",
   "execution_count": 31,
   "id": "20d3c59d",
   "metadata": {},
   "outputs": [
    {
     "data": {
      "text/plain": [
       "(39073, 9769, np.float64(0.239))"
      ]
     },
     "execution_count": 31,
     "metadata": {},
     "output_type": "execute_result"
    }
   ],
   "source": [
    "X = df.drop(columns=['income'])\n",
    "y = df['income']\n",
    "\n",
    "X_train, X_test, y_train, y_test = train_test_split(\n",
    "    X, y, test_size=0.20, stratify=y, random_state=SEED\n",
    ")\n",
    "\n",
    "len(X_train), len(X_test), y_train.mean().round(3)\n"
   ]
  },
  {
   "cell_type": "code",
   "execution_count": 32,
   "id": "5af39f96",
   "metadata": {},
   "outputs": [],
   "source": [
    "preprocessor = ColumnTransformer(\n",
    "    transformers=[\n",
    "        (\"num\", StandardScaler(with_mean=False), num_cols),  # with_mean=False se sparse\n",
    "        (\"cat\", OneHotEncoder(handle_unknown=\"ignore\"), cat_cols),\n",
    "    ],\n",
    "    remainder='drop',\n",
    "    sparse_threshold=0.3  # mantiene sparse se grande\n",
    ")\n"
   ]
  },
  {
   "cell_type": "code",
   "execution_count": 37,
   "id": "26d8cfe0",
   "metadata": {},
   "outputs": [
    {
     "name": "stdout",
     "output_type": "stream",
     "text": [
      "Dummy accuracy: 0.761\n",
      "LogReg CV PR-AUC (mean±std): 0.766 ± 0.011\n",
      "Test ROC-AUC: 0.906\n",
      "Test PR-AUC : 0.767\n"
     ]
    }
   ],
   "source": [
    "baseline = Pipeline(steps=[\n",
    "    (\"prep\", preprocessor),\n",
    "    (\"clf\", DummyClassifier(strategy=\"most_frequent\"))\n",
    "])\n",
    "baseline.fit(X_train, y_train)\n",
    "y_pred = baseline.predict(X_test)\n",
    "print(\"Dummy accuracy:\", (y_pred == y_test).mean().round(3))\n",
    "\n",
    "logreg = Pipeline(steps=[\n",
    "    (\"prep\", preprocessor),\n",
    "    (\"clf\", LogisticRegression(max_iter=2000, n_jobs=None))\n",
    "])\n",
    "\n",
    "cv = StratifiedKFold(n_splits=5, shuffle=True, random_state=SEED)\n",
    "scores = cross_val_score(logreg, X_train, y_train, scoring=\"average_precision\", cv=cv)\n",
    "print(\"LogReg CV PR-AUC (mean±std):\", scores.mean().round(3), \"±\", scores.std().round(3))\n",
    "\n",
    "logreg.fit(X_train, y_train)\n",
    "proba = logreg.predict_proba(X_test)[:,1]\n",
    "print(\"Test ROC-AUC:\", round(roc_auc_score(y_test, proba), 3))\n",
    "print(\"Test PR-AUC :\", round(average_precision_score(y_test, proba), 3))\n"
   ]
  },
  {
   "cell_type": "code",
   "execution_count": 38,
   "id": "d64b76ea",
   "metadata": {},
   "outputs": [
    {
     "data": {
      "image/png": "[encoded data removed]",
      "text/plain": [
       "<Figure size 640x480 with 1 Axes>"
      ]
     },
     "metadata": {},
     "output_type": "display_data"
    },
    {
     "data": {
      "image/png": "[encoded data removed]",
      "text/plain": [
       "<Figure size 640x480 with 1 Axes>"
      ]
     },
     "metadata": {},
     "output_type": "display_data"
    }
   ],
   "source": [
    "RocCurveDisplay.from_predictions(y_test, proba); plt.show()\n",
    "PrecisionRecallDisplay.from_predictions(y_test, proba); plt.show()\n"
   ]
  },
  {
   "cell_type": "code",
   "execution_count": 39,
   "id": "5463f429",
   "metadata": {},
   "outputs": [
    {
     "name": "stdout",
     "output_type": "stream",
     "text": [
      "              precision    recall  f1-score   support\n",
      "\n",
      "           0      0.881     0.935     0.907      7431\n",
      "           1      0.742     0.597     0.662      2338\n",
      "\n",
      "    accuracy                          0.854      9769\n",
      "   macro avg      0.811     0.766     0.784      9769\n",
      "weighted avg      0.847     0.854     0.848      9769\n",
      "\n"
     ]
    },
    {
     "data": {
      "text/plain": [
       "array([[6946,  485],\n",
       "       [ 942, 1396]])"
      ]
     },
     "execution_count": 39,
     "metadata": {},
     "output_type": "execute_result"
    }
   ],
   "source": [
    "pred_05 = (proba >= 0.5).astype(int)\n",
    "print(classification_report(y_test, pred_05, digits=3))\n",
    "confusion_matrix(y_test, pred_05)\n"
   ]
  },
  {
   "cell_type": "code",
   "execution_count": 41,
   "id": "e0c6d974",
   "metadata": {},
   "outputs": [
    {
     "data": {
      "text/plain": [
       "(np.float64(0.4), 0.6924887652471645)"
      ]
     },
     "execution_count": 41,
     "metadata": {},
     "output_type": "execute_result"
    }
   ],
   "source": [
    "calibr = Pipeline([\n",
    "    (\"prep\", preprocessor),\n",
    "    (\"clf\", CalibratedClassifierCV(LogisticRegression(max_iter=2000), method=\"isotonic\", cv=5))\n",
    "])\n",
    "calibr.fit(X_train, y_train)\n",
    "p = calibr.predict_proba(X_test)[:,1]\n",
    "\n",
    "# Ricerca soglia che massimizza F1\n",
    "from sklearn.metrics import f1_score\n",
    "ths = np.linspace(0.1, 0.9, 41)\n",
    "f1s = [f1_score(y_test, (p>=t).astype(int)) for t in ths]\n",
    "best_t = ths[int(np.argmax(f1s))]\n",
    "best_t, max(f1s)\n"
   ]
  },
  {
   "cell_type": "code",
   "execution_count": 45,
   "id": "e5dc46a1",
   "metadata": {},
   "outputs": [
    {
     "ename": "AttributeError",
     "evalue": "'float' object has no attribute 'round'",
     "output_type": "error",
     "traceback": [
      "\u001b[31m---------------------------------------------------------------------------\u001b[39m",
      "\u001b[31mAttributeError\u001b[39m                            Traceback (most recent call last)",
      "\u001b[36mCell\u001b[39m\u001b[36m \u001b[39m\u001b[32mIn[45]\u001b[39m\u001b[32m, line 47\u001b[39m\n\u001b[32m     37\u001b[39m hist = model.fit(\n\u001b[32m     38\u001b[39m     Xtr, y_train.values,\n\u001b[32m     39\u001b[39m     validation_split=\u001b[32m0.2\u001b[39m,\n\u001b[32m   (...)\u001b[39m\u001b[32m     43\u001b[39m     verbose=\u001b[32m0\u001b[39m\n\u001b[32m     44\u001b[39m )\n\u001b[32m     46\u001b[39m p_dl = model.predict(Xte, verbose=\u001b[32m0\u001b[39m).ravel()\n\u001b[32m---> \u001b[39m\u001b[32m47\u001b[39m \u001b[38;5;28mprint\u001b[39m(\u001b[33m\"\u001b[39m\u001b[33mDL ROC-AUC:\u001b[39m\u001b[33m\"\u001b[39m, \u001b[43mroc_auc_score\u001b[49m\u001b[43m(\u001b[49m\u001b[43my_test\u001b[49m\u001b[43m,\u001b[49m\u001b[43m \u001b[49m\u001b[43mp_dl\u001b[49m\u001b[43m)\u001b[49m\u001b[43m.\u001b[49m\u001b[43mround\u001b[49m(\u001b[32m3\u001b[39m))\n\u001b[32m     48\u001b[39m \u001b[38;5;28mprint\u001b[39m(\u001b[33m\"\u001b[39m\u001b[33mDL PR-AUC :\u001b[39m\u001b[33m\"\u001b[39m, average_precision_score(y_test, p_dl).round(\u001b[32m3\u001b[39m))\n\u001b[32m     49\u001b[39m PrecisionRecallDisplay.from_predictions(y_test, p_dl); plt.show()\n",
      "\u001b[31mAttributeError\u001b[39m: 'float' object has no attribute 'round'"
     ]
    }
   ],
   "source": [
    "\n",
    "from tensorflow import keras\n",
    "from scipy import sparse\n",
    "\n",
    "# Fit preprocessor una volta e trasformiamo\n",
    "preprocessor.fit(X_train)\n",
    "Xtr = preprocessor.transform(X_train)\n",
    "Xte = preprocessor.transform(X_test)\n",
    "\n",
    "# Densifichiamo (dimensioni gestibili per Adult)\n",
    "Xtr = Xtr.toarray() if sparse.issparse(Xtr) else Xtr\n",
    "Xte = Xte.toarray() if sparse.issparse(Xte) else Xte\n",
    "\n",
    "input_dim = Xtr.shape[1]\n",
    "pos_weight = compute_class_weight('balanced', classes=np.array([0,1]), y=y_train.values)\n",
    "class_weight = {0: pos_weight[0], 1: pos_weight[1]}\n",
    "\n",
    "model = keras.Sequential([\n",
    "    keras.layers.Input(shape=(input_dim,)),\n",
    "    keras.layers.BatchNormalization(),\n",
    "    keras.layers.Dense(256, activation='relu'),\n",
    "    keras.layers.Dropout(0.3),\n",
    "    keras.layers.Dense(128, activation='relu'),\n",
    "    keras.layers.Dropout(0.3),\n",
    "    keras.layers.Dense(1, activation='sigmoid')\n",
    "])\n",
    "\n",
    "model.compile(optimizer=keras.optimizers.Adam(1e-3),\n",
    "              loss='binary_crossentropy',\n",
    "              metrics=[keras.metrics.AUC(curve='ROC', name='auc'),\n",
    "                       keras.metrics.AUC(curve='PR', name='pr_auc')])\n",
    "\n",
    "cb = [\n",
    "    keras.callbacks.ReduceLROnPlateau(factor=0.5, patience=3, min_lr=1e-5),\n",
    "    keras.callbacks.EarlyStopping(patience=8, restore_best_weights=True, monitor=\"val_pr_auc\", mode=\"max\")\n",
    "]\n",
    "\n",
    "hist = model.fit(\n",
    "    Xtr, y_train.values,\n",
    "    validation_split=0.2,\n",
    "    epochs=50, batch_size=1024,\n",
    "    callbacks=cb,\n",
    "    class_weight=class_weight,\n",
    "    verbose=0\n",
    ")\n",
    "\n",
    "\n"
   ]
  },
  {
   "cell_type": "code",
   "execution_count": 46,
   "id": "2653079b",
   "metadata": {},
   "outputs": [
    {
     "name": "stdout",
     "output_type": "stream",
     "text": [
      "DL ROC-AUC: 0.9116914104198317\n",
      "DL PR-AUC : 0.7802246993977315\n"
     ]
    },
    {
     "data": {
      "image/png": "[encoded data removed]",
      "text/plain": [
       "<Figure size 640x480 with 1 Axes>"
      ]
     },
     "metadata": {},
     "output_type": "display_data"
    }
   ],
   "source": [
    "p_dl = model.predict(Xte, verbose=0).ravel()\n",
    "print(\"DL ROC-AUC:\", roc_auc_score(y_test, p_dl))\n",
    "print(\"DL PR-AUC :\", average_precision_score(y_test, p_dl))\n",
    "PrecisionRecallDisplay.from_predictions(y_test, p_dl); plt.show()"
   ]
  },
  {
   "cell_type": "code",
   "execution_count": null,
   "id": "dacbfcb7",
   "metadata": {},
   "outputs": [],
   "source": []
  }
 ],
 "metadata": {
  "kernelspec": {
   "display_name": ".venv",
   "language": "python",
   "name": "python3"
  },
  "language_info": {
   "codemirror_mode": {
    "name": "ipython",
    "version": 3
   },
   "file_extension": ".py",
   "mimetype": "text/x-python",
   "name": "python",
   "nbconvert_exporter": "python",
   "pygments_lexer": "ipython3",
   "version": "3.11.9"
  }
 },
 "nbformat": 4,
 "nbformat_minor": 5
}
